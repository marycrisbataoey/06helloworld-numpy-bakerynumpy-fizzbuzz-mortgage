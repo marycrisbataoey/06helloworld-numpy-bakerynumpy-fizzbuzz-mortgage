{
  "nbformat": 4,
  "nbformat_minor": 0,
  "metadata": {
    "colab": {
      "name": "mortgage.ipynb",
      "provenance": [],
      "authorship_tag": "ABX9TyOcNaXdYE2TOW20tVBbZwSh",
      "include_colab_link": true
    },
    "kernelspec": {
      "name": "python3",
      "display_name": "Python 3"
    },
    "language_info": {
      "name": "python"
    }
  },
  "cells": [
    {
      "cell_type": "markdown",
      "metadata": {
        "id": "view-in-github",
        "colab_type": "text"
      },
      "source": [
        "<a href=\"https://colab.research.google.com/github/marycrisbataoey/06helloworld-numpy-bakerynumpy-fizzbuzz-mortgage/blob/main/mortgage.ipynb\" target=\"_parent\"><img src=\"https://colab.research.google.com/assets/colab-badge.svg\" alt=\"Open In Colab\"/></a>"
      ]
    },
    {
      "cell_type": "code",
      "execution_count": 1,
      "metadata": {
        "id": "XVU-WpOmPAxR"
      },
      "outputs": [],
      "source": [
        "def EMI(P,r,n) :\n",
        "  monthly_installment = P * (r*(1+r)**n)/((1+r)**n-1)\n",
        "  return monthly_installment"
      ]
    },
    {
      "cell_type": "code",
      "source": [
        "#solution 1\n",
        "EMI(400000,0.13/12,30*12)"
      ],
      "metadata": {
        "colab": {
          "base_uri": "https://localhost:8080/"
        },
        "id": "Cu_D_DCrPOrD",
        "outputId": "a4a28a7d-c7ee-48bf-ce59-68362ba43b69"
      },
      "execution_count": 2,
      "outputs": [
        {
          "output_type": "execute_result",
          "data": {
            "text/plain": [
              "4424.798077066246"
            ]
          },
          "metadata": {},
          "execution_count": 2
        }
      ]
    },
    {
      "cell_type": "code",
      "source": [
        "#solution 2\n",
        "EMI(400000,0.06/12,30*12)"
      ],
      "metadata": {
        "id": "_zP41VT0PR7U",
        "outputId": "37b71ba2-5ec9-4561-b3a0-68b711bc72e2",
        "colab": {
          "base_uri": "https://localhost:8080/"
        }
      },
      "execution_count": 3,
      "outputs": [
        {
          "output_type": "execute_result",
          "data": {
            "text/plain": [
              "2398.2021006110276"
            ]
          },
          "metadata": {},
          "execution_count": 3
        }
      ]
    }
  ]
}