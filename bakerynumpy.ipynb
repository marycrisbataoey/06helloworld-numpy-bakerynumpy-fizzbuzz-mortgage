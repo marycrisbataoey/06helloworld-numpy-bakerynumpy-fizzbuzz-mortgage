{
  "nbformat": 4,
  "nbformat_minor": 0,
  "metadata": {
    "colab": {
      "name": "bakerynumpy.ipynb",
      "provenance": [],
      "authorship_tag": "ABX9TyONZAvDVyoVv8PIutnUh0Yw",
      "include_colab_link": true
    },
    "kernelspec": {
      "name": "python3",
      "display_name": "Python 3"
    },
    "language_info": {
      "name": "python"
    }
  },
  "cells": [
    {
      "cell_type": "markdown",
      "metadata": {
        "id": "view-in-github",
        "colab_type": "text"
      },
      "source": [
        "<a href=\"https://colab.research.google.com/github/marycrisbataoey/06helloworld-numpy-bakerynumpy-fizzbuzz-mortgage/blob/main/bakerynumpy.ipynb\" target=\"_parent\"><img src=\"https://colab.research.google.com/assets/colab-badge.svg\" alt=\"Open In Colab\"/></a>"
      ]
    },
    {
      "cell_type": "code",
      "execution_count": 1,
      "metadata": {
        "colab": {
          "base_uri": "https://localhost:8080/"
        },
        "id": "JlVUQtv8OY5z",
        "outputId": "3611f278-edec-4bf2-a4b9-786d7c3277f9"
      },
      "outputs": [
        {
          "output_type": "execute_result",
          "data": {
            "text/plain": [
              "[2, 1, 10]"
            ]
          },
          "metadata": {},
          "execution_count": 1
        }
      ],
      "source": [
        "import numpy as np\n",
        "price= [2,1,10]\n",
        "(price)"
      ]
    },
    {
      "cell_type": "code",
      "source": [
        "quantity_sold = [17,40,10]\n",
        "quantity_sold\n"
      ],
      "metadata": {
        "colab": {
          "base_uri": "https://localhost:8080/"
        },
        "id": "jYQFUcKiOkEi",
        "outputId": "1302dbe7-a5b2-4e3f-b14c-92eb38820889"
      },
      "execution_count": 2,
      "outputs": [
        {
          "output_type": "execute_result",
          "data": {
            "text/plain": [
              "[17, 40, 10]"
            ]
          },
          "metadata": {},
          "execution_count": 2
        }
      ]
    },
    {
      "cell_type": "code",
      "source": [
        "price_array=np.array (price)\n",
        "quantity_sold_array=np.array (quantity_sold)\n",
        "(price_array)\n",
        "(quantity_sold)"
      ],
      "metadata": {
        "colab": {
          "base_uri": "https://localhost:8080/"
        },
        "id": "NTpj3zLYOowr",
        "outputId": "1f5a0557-6358-4d72-d267-4f227b128c5f"
      },
      "execution_count": 3,
      "outputs": [
        {
          "output_type": "execute_result",
          "data": {
            "text/plain": [
              "[17, 40, 10]"
            ]
          },
          "metadata": {},
          "execution_count": 3
        }
      ]
    },
    {
      "cell_type": "code",
      "source": [
        "price_array * quantity_sold"
      ],
      "metadata": {
        "colab": {
          "base_uri": "https://localhost:8080/"
        },
        "id": "Y6fDzi4POqjE",
        "outputId": "b583b475-894d-493a-f849-e8e1e344e53d"
      },
      "execution_count": 4,
      "outputs": [
        {
          "output_type": "execute_result",
          "data": {
            "text/plain": [
              "array([ 34,  40, 100])"
            ]
          },
          "metadata": {},
          "execution_count": 4
        }
      ]
    }
  ]
}